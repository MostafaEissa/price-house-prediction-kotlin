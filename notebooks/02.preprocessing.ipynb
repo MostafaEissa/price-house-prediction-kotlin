{
    "cells": [
        {
            "cell_type": "markdown",
            "metadata": {},
            "source": [
                "# Preprocessing"
            ]
        },
        {
            "cell_type": "code",
            "execution_count": 1,
            "metadata": {},
            "outputs": [
                {
                    "data": {
                        "text/html": [
                            "            <div id=\"kotlin_out_0\"></div>\n",
                            "            <script type=\"text/javascript\">\n",
                            "                            if(!window.kotlinQueues) {\n",
                            "                window.kotlinQueues = {};\n",
                            "            }\n",
                            "            if(!window.kotlinQueues[\"DataFrame\"]) {\n",
                            "                var resQueue = [];\n",
                            "                window.kotlinQueues[\"DataFrame\"] = resQueue;\n",
                            "                window[\"call_DataFrame\"] = function(f) {\n",
                            "                    resQueue.push(f);\n",
                            "                }\n",
                            "            }\n",
                            "            (function (){\n",
                            "                var modifiers = [(function(script) {\n",
                            "    script.src = \"https://cdn.jsdelivr.net/gh/Kotlin/dataframe@3db46ccccaa1291c0627307d64133317f545e6ae/core/src/main/resources/init.js\"\n",
                            "    script.type = \"text/javascript\";\n",
                            "})];\n",
                            "                var e = document.getElementById(\"kotlin_out_0\");\n",
                            "                modifiers.forEach(function (gen) {\n",
                            "                    var script = document.createElement(\"script\");\n",
                            "                    gen(script)\n",
                            "                    script.addEventListener(\"load\", function() {\n",
                            "                        window[\"call_DataFrame\"] = function(f) {f();};\n",
                            "                        window.kotlinQueues[\"DataFrame\"].forEach(function(f) {f();});\n",
                            "                        window.kotlinQueues[\"DataFrame\"] = [];\n",
                            "                    }, false);\n",
                            "                    script.addEventListener(\"error\", function() {\n",
                            "                        window[\"call_DataFrame\"] = function(f) {};\n",
                            "                        window.kotlinQueues[\"DataFrame\"] = [];\n",
                            "                        var div = document.createElement(\"div\");\n",
                            "                        div.style.color = 'darkred';\n",
                            "                        div.textContent = 'Error loading resource DataFrame';\n",
                            "                        document.getElementById(\"kotlin_out_0\").appendChild(div);\n",
                            "                    }, false);\n",
                            "                    \n",
                            "                    e.appendChild(script);\n",
                            "                });\n",
                            "            })();\n",
                            "            </script>"
                        ]
                    },
                    "metadata": {},
                    "output_type": "display_data"
                },
                {
                    "data": {
                        "text/html": [
                            "                <style>\n",
                            "                :root {\n",
                            "    --background: #fff;\n",
                            "    --background-odd: #f5f5f5;\n",
                            "    --background-hover: #d9edfd;\n",
                            "    --header-text-color: #474747;\n",
                            "    --text-color: #848484;\n",
                            "    --text-color-dark: #000;\n",
                            "    --text-color-medium: #737373;\n",
                            "    --text-color-pale: #b3b3b3;\n",
                            "    --inner-border-color: #aaa;\n",
                            "    --bold-border-color: #000;\n",
                            "    --link-color: #296eaa;\n",
                            "    --link-color-pale: #296eaa;\n",
                            "    --link-hover: #1a466c;\n",
                            "}\n",
                            "\n",
                            ":root[theme=\"dark\"], :root [data-jp-theme-light=\"false\"], .dataframe_dark{\n",
                            "    --background: #303030;\n",
                            "    --background-odd: #3c3c3c;\n",
                            "    --background-hover: #464646;\n",
                            "    --header-text-color: #dddddd;\n",
                            "    --text-color: #b3b3b3;\n",
                            "    --text-color-dark: #dddddd;\n",
                            "    --text-color-medium: #b2b2b2;\n",
                            "    --text-color-pale: #737373;\n",
                            "    --inner-border-color: #707070;\n",
                            "    --bold-border-color: #777777;\n",
                            "    --link-color: #008dc0;\n",
                            "    --link-color-pale: #97e1fb;\n",
                            "    --link-hover: #00688e;\n",
                            "}\n",
                            "\n",
                            "p.dataframe_description {\n",
                            "    color: var(--text-color-dark);\n",
                            "}\n",
                            "\n",
                            "table.dataframe {\n",
                            "    font-family: \"Helvetica Neue\", Helvetica, Arial, sans-serif;\n",
                            "    font-size: 12px;\n",
                            "    background-color: var(--background);\n",
                            "    color: var(--text-color-dark);\n",
                            "    border: none;\n",
                            "    border-collapse: collapse;\n",
                            "}\n",
                            "\n",
                            "table.dataframe th, td {\n",
                            "    padding: 6px;\n",
                            "    border: 1px solid transparent;\n",
                            "    text-align: left;\n",
                            "}\n",
                            "\n",
                            "table.dataframe th {\n",
                            "    background-color: var(--background);\n",
                            "    color: var(--header-text-color);\n",
                            "}\n",
                            "\n",
                            "table.dataframe td {\n",
                            "    vertical-align: top;\n",
                            "}\n",
                            "\n",
                            "table.dataframe th.bottomBorder {\n",
                            "    border-bottom-color: var(--bold-border-color);\n",
                            "}\n",
                            "\n",
                            "table.dataframe tbody > tr:nth-child(odd) {\n",
                            "    background: var(--background-odd);\n",
                            "}\n",
                            "\n",
                            "table.dataframe tbody > tr:nth-child(even) {\n",
                            "    background: var(--background);\n",
                            "}\n",
                            "\n",
                            "table.dataframe tbody > tr:hover {\n",
                            "    background: var(--background-hover);\n",
                            "}\n",
                            "\n",
                            "table.dataframe a {\n",
                            "    cursor: pointer;\n",
                            "    color: var(--link-color);\n",
                            "    text-decoration: none;\n",
                            "}\n",
                            "\n",
                            "table.dataframe tr:hover > td a {\n",
                            "    color: var(--link-color-pale);\n",
                            "}\n",
                            "\n",
                            "table.dataframe a:hover {\n",
                            "    color: var(--link-hover);\n",
                            "    text-decoration: underline;\n",
                            "}\n",
                            "\n",
                            "table.dataframe img {\n",
                            "    max-width: fit-content;\n",
                            "}\n",
                            "\n",
                            "table.dataframe th.complex {\n",
                            "    background-color: var(--background);\n",
                            "    border: 1px solid var(--background);\n",
                            "}\n",
                            "\n",
                            "table.dataframe .leftBorder {\n",
                            "    border-left-color: var(--inner-border-color);\n",
                            "}\n",
                            "\n",
                            "table.dataframe .rightBorder {\n",
                            "    border-right-color: var(--inner-border-color);\n",
                            "}\n",
                            "\n",
                            "table.dataframe .rightAlign {\n",
                            "    text-align: right;\n",
                            "}\n",
                            "\n",
                            "table.dataframe .expanderSvg {\n",
                            "    width: 8px;\n",
                            "    height: 8px;\n",
                            "    margin-right: 3px;\n",
                            "}\n",
                            "\n",
                            "table.dataframe .expander {\n",
                            "    display: flex;\n",
                            "    align-items: center;\n",
                            "}\n",
                            "\n",
                            "/* formatting */\n",
                            "\n",
                            "table.dataframe .null {\n",
                            "    color: var(--text-color-pale);\n",
                            "}\n",
                            "\n",
                            "table.dataframe .structural {\n",
                            "    color: var(--text-color-medium);\n",
                            "    font-weight: bold;\n",
                            "}\n",
                            "\n",
                            "table.dataframe .dataFrameCaption {\n",
                            "    font-weight: bold;\n",
                            "}\n",
                            "\n",
                            "table.dataframe .numbers {\n",
                            "    color: var(--text-color-dark);\n",
                            "}\n",
                            "\n",
                            "table.dataframe td:hover .formatted .structural, .null {\n",
                            "    color: var(--text-color-dark);\n",
                            "}\n",
                            "\n",
                            "table.dataframe tr:hover .formatted .structural, .null {\n",
                            "    color: var(--text-color-dark);\n",
                            "}\n",
                            "\n",
                            "\n",
                            "                </style>"
                        ]
                    },
                    "metadata": {},
                    "output_type": "display_data"
                }
            ],
            "source": [
                "// imports\n",
                "%use dataframe\n",
                "% use smile"
            ]
        },
        {
            "cell_type": "markdown",
            "metadata": {},
            "source": [
                "## Imputation and Encoding"
            ]
        },
        {
            "cell_type": "markdown",
            "metadata": {},
            "source": [
                "We will\n",
                "\n",
                "- Impute missing numerical features with the median value \n",
                "- Encode categorical features using one hot encoding"
            ]
        },
        {
            "cell_type": "code",
            "execution_count": 7,
            "metadata": {},
            "outputs": [],
            "source": [
                "import smile.feature.imputation.SimpleImputer;\n",
                "import smile.data.CategoricalEncoder;\n",
                "import smile.data.DataFrame as smileDataFrame;"
            ]
        },
        {
            "cell_type": "code",
            "execution_count": 3,
            "metadata": {},
            "outputs": [],
            "source": [
                "val housing = read.csv(\"../data/raw/housing.csv\")"
            ]
        },
        {
            "cell_type": "code",
            "execution_count": 4,
            "metadata": {},
            "outputs": [],
            "source": [
                "val imputer = SimpleImputer.fit(housing)\n",
                "val completeData = imputer.apply(housing)"
            ]
        },
        {
            "cell_type": "code",
            "execution_count": 5,
            "metadata": {},
            "outputs": [
                {
                    "data": {
                        "text/plain": [
                            "[longitude: double, latitude: double, housing_median_age: double, total_rooms: double, total_bedrooms: double, population: double, households: double, median_income: double, median_house_value: double, ocean_proximity: String]\n",
                            "+---------+--------+------------------+-----------+--------------+----------+----------+-------------+------------------+---------------+\n",
                            "|longitude|latitude|housing_median_age|total_rooms|total_bedrooms|population|households|median_income|median_house_value|ocean_proximity|\n",
                            "+---------+--------+------------------+-----------+--------------+----------+----------+-------------+------------------+---------------+\n",
                            "|  -122.23|   37.88|                41|        880|           129|       322|       126|       8.3252|            452600|       NEAR BAY|\n",
                            "|  -122.22|   37.86|                21|       7099|          1106|      2401|      1138|       8.3014|            358500|       NEAR BAY|\n",
                            "|  -122.24|   37.85|                52|       1467|           190|       496|       177|       7.2574|            352100|       NEAR BAY|\n",
                            "|  -122.25|   37.85|                52|       1274|           235|       558|       219|       5.6431|            341300|       NEAR BAY|\n",
                            "|  -122.25|   37.85|                52|       1627|           280|       565|       259|       3.8462|            342200|       NEAR BAY|\n",
                            "|  -122.25|   37.85|                52|        919|           213|       413|       193|       4.0368|            269700|       NEAR BAY|\n",
                            "|  -122.25|   37.84|                52|       2535|           489|      1094|       514|       3.6591|            299200|       NEAR BAY|\n",
                            "|  -122.25|   37.84|                52|       3104|           687|      1157|       647|         3.12|            241400|       NEAR BAY|\n",
                            "|  -122.26|   37.84|                42|       2555|           665|      1206|       595|       2.0804|            226700|       NEAR BAY|\n",
                            "|  -122.25|   37.84|                52|       3549|           707|      1551|       714|       3.6912|            261100|       NEAR BAY|\n",
                            "+---------+--------+------------------+-----------+--------------+----------+----------+-------------+------------------+---------------+\n",
                            "20630 more rows...\n"
                        ]
                    },
                    "execution_count": 5,
                    "metadata": {},
                    "output_type": "execute_result"
                }
            ],
            "source": [
                "completeData"
            ]
        },
        {
            "cell_type": "code",
            "execution_count": 8,
            "metadata": {},
            "outputs": [],
            "source": [
                "val oneHotEncodedData = completeData\n",
                ".factorize(\"ocean_proximity\")\n",
                ".toMatrix(false, CategoricalEncoder.ONE_HOT, null)\n",
                "\n",
                "val oneHotEncodedFrame = smileDataFrame.of(oneHotEncodedData.toArray(), *oneHotEncodedData.colNames())"
            ]
        },
        {
            "cell_type": "code",
            "execution_count": 9,
            "metadata": {},
            "outputs": [],
            "source": [
                "write.csv(oneHotEncodedFrame, \"../data/processed/housing.csv\")"
            ]
        },
        {
            "cell_type": "markdown",
            "metadata": {},
            "source": [
                "## Train/Test Split"
            ]
        },
        {
            "cell_type": "code",
            "execution_count": 10,
            "metadata": {},
            "outputs": [],
            "source": [
                "val housing = DataFrame.read(\"../data/processed/housing.csv\")"
            ]
        },
        {
            "cell_type": "code",
            "execution_count": 11,
            "metadata": {},
            "outputs": [],
            "source": [
                "val numSamples = housing.rowsCount()\n",
                "val indices = (0..numSamples-1).toList()\n",
                "val indicesShuffled=  indices.shuffled()\n",
                "val testRatio = 0.2\n",
                "val numTrain = ((1 - testRatio) * numSamples).toInt()\n",
                "val trainIndices = indicesShuffled.slice(0..numTrain)\n",
                "val testIndices = indicesShuffled.slice(numTrain..numSamples-1)"
            ]
        },
        {
            "cell_type": "code",
            "execution_count": 12,
            "metadata": {},
            "outputs": [],
            "source": [
                "val trainData = housing[trainIndices]\n",
                "val testData = housing[testIndices]"
            ]
        },
        {
            "cell_type": "code",
            "execution_count": 13,
            "metadata": {},
            "outputs": [],
            "source": [
                "trainData.writeCSV(\"../data/processed/housing_train.csv\")\n",
                "testData.writeCSV(\"../data/processed/housing_test.csv\")"
            ]
        }
    ],
    "metadata": {
        "kernelspec": {
            "display_name": "Kotlin",
            "language": "kotlin",
            "name": "kotlin"
        },
        "language_info": {
            "codemirror_mode": "text/x-kotlin",
            "file_extension": ".kt",
            "mimetype": "text/x-kotlin",
            "name": "kotlin",
            "nbconvert_exporter": "",
            "pygments_lexer": "kotlin",
            "version": "1.9.23"
        }
    },
    "nbformat": 4,
    "nbformat_minor": 2
}
